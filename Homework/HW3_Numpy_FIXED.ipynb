{
 "cells": [
  {
   "cell_type": "markdown",
   "metadata": {},
   "source": [
    "![data-x](http://oi64.tinypic.com/o858n4.jpg)\n",
    "\n",
    "\n",
    "\n",
    "\n"
   ]
  },
  {
   "cell_type": "markdown",
   "metadata": {},
   "source": [
    "# Homework 03\n"
   ]
  },
  {
   "cell_type": "markdown",
   "metadata": {},
   "source": [
    "## NAME: Chelsea Yang"
   ]
  },
  {
   "cell_type": "markdown",
   "metadata": {},
   "source": [
    "## ## STUDENT ID: 3034392755"
   ]
  },
  {
   "cell_type": "markdown",
   "metadata": {},
   "source": [
    "\n",
    "\n",
    "## Numpy Introduction\n",
    "\n",
    "\n",
    "__1a) Create two numpy arrays (a and b). a should be all integers between 25-34 (inclusive), and b should be ten evenly spaced numbers between 1-6. Print all the results below:__ \n",
    "\n",
    "\n",
    "i) Cube (i.e. raise to the power of 3) all the elements in both arrays (element-wise)  \n",
    "ii)  Add both the cubed arrays (e.g., [1,2] + [3,4] = [4,6])  \n",
    "iii)  Sum the elements with even indices of the added array.  \n",
    "iv)  Take the square root of the added array (element-wise square root)__\n"
   ]
  },
  {
   "cell_type": "code",
   "execution_count": 1,
   "metadata": {},
   "outputs": [
    {
     "name": "stdout",
     "output_type": "stream",
     "text": [
      "[25 26 27 28 29 30 31 32 33 34] [1.         1.55555556 2.11111111 2.66666667 3.22222222 3.77777778\n",
      " 4.33333333 4.88888889 5.44444444 6.        ]\n",
      "[15625 17576 19683 21952 24389 27000 29791 32768 35937 39304] [  1.           3.76406036   9.40877915  18.96296296  33.45541838\n",
      "  53.91495199  81.37037037 116.85048011 161.38408779 216.        ]\n",
      "[15626.         17579.76406036 19692.40877915 21970.96296296\n",
      " 24422.45541838 27053.91495199 29872.37037037 32884.85048011\n",
      " 36098.38408779 39520.        ]\n",
      "125711.61865569273\n",
      "[125.00399994 132.58870261 140.32964327 148.22605359 156.27685503\n",
      " 164.48074341 172.83625306 181.34180566 189.99574755 198.79637824]\n"
     ]
    }
   ],
   "source": [
    "import numpy as np\n",
    "a=np.arange(25,35)\n",
    "b=np.linspace(1,6,10)\n",
    "print(a,b)\n",
    "\n",
    "aa=a**3\n",
    "bb=b**3\n",
    "print(aa,bb)\n",
    "\n",
    "c=aa+bb\n",
    "print(c)\n",
    "\n",
    "sum=0\n",
    "for i in range(0,10):\n",
    "    if i%2==0:\n",
    "        sum+=c[i]\n",
    "\n",
    "print(sum)\n",
    "\n",
    "c=c**0.5\n",
    "print(c)\n",
    "\n",
    "\n"
   ]
  },
  {
   "cell_type": "markdown",
   "metadata": {},
   "source": [
    "__1b) Append b to a, reshape the appended array so that it is a 4x5, 2d array and store the results in a variable called m. Print m.__\n"
   ]
  },
  {
   "cell_type": "code",
   "execution_count": 4,
   "metadata": {},
   "outputs": [
    {
     "name": "stdout",
     "output_type": "stream",
     "text": [
      "[[25.         26.         27.         28.         29.        ]\n",
      " [30.         31.         32.         33.         34.        ]\n",
      " [ 1.          1.55555556  2.11111111  2.66666667  3.22222222]\n",
      " [ 3.77777778  4.33333333  4.88888889  5.44444444  6.        ]]\n"
     ]
    }
   ],
   "source": [
    "m=np.hstack([a,b]).reshape(4,5)\n",
    "print(m)"
   ]
  },
  {
   "cell_type": "markdown",
   "metadata": {},
   "source": [
    "__1c) Extract the third and the fourth column of the m matrix. Store the resulting 4x2 matrix in a new variable called m2. Print m2.__\n"
   ]
  },
  {
   "cell_type": "code",
   "execution_count": 6,
   "metadata": {},
   "outputs": [
    {
     "name": "stdout",
     "output_type": "stream",
     "text": [
      "[[27.         28.        ]\n",
      " [32.         33.        ]\n",
      " [ 2.11111111  2.66666667]\n",
      " [ 4.88888889  5.44444444]]\n"
     ]
    }
   ],
   "source": [
    "m2=m[:,2:4]\n",
    "print(m2)\n"
   ]
  },
  {
   "cell_type": "markdown",
   "metadata": {},
   "source": [
    "__1d) Take the dot product of m2 and m store the results in a matrix called m3. Print m3.\n",
    "Note that Dot product of two matrices A.B =A<sup>T</sup>B__"
   ]
  },
  {
   "cell_type": "code",
   "execution_count": 15,
   "metadata": {},
   "outputs": [
    {
     "name": "stdout",
     "output_type": "stream",
     "text": [
      "[[1655.58024691 1718.4691358  1781.35802469 1844.24691358 1907.13580247]\n",
      " [1713.2345679  1778.74074074 1844.24691358 1909.75308642 1975.25925926]]\n"
     ]
    }
   ],
   "source": [
    "mm=np.transpose(m2)\n",
    "m3=np.matmul(mm,m)\n",
    "print(m3)"
   ]
  },
  {
   "cell_type": "markdown",
   "metadata": {},
   "source": [
    "__1e) Round the m3 matrix to three decimal points. Store the result in place and print the new m3.__\n"
   ]
  },
  {
   "cell_type": "code",
   "execution_count": 17,
   "metadata": {},
   "outputs": [
    {
     "name": "stdout",
     "output_type": "stream",
     "text": [
      "[[1655.58  1718.469 1781.358 1844.247 1907.136]\n",
      " [1713.235 1778.741 1844.247 1909.753 1975.259]]\n"
     ]
    }
   ],
   "source": [
    "m3=np.round(m3,3)\n",
    "print(m3)"
   ]
  },
  {
   "cell_type": "markdown",
   "metadata": {},
   "source": [
    "__1f) Sort the m3 array so that the highest value is at the bottom right and the lowest value is at the top left. Print the sorted m3 array.__\n"
   ]
  },
  {
   "cell_type": "code",
   "execution_count": 23,
   "metadata": {},
   "outputs": [
    {
     "data": {
      "text/plain": [
       "array([[1655.58 , 1713.235, 1718.469, 1778.741, 1781.358],\n",
       "       [1844.247, 1844.247, 1907.136, 1909.753, 1975.259]])"
      ]
     },
     "execution_count": 23,
     "metadata": {},
     "output_type": "execute_result"
    }
   ],
   "source": [
    "m3_new=np.sort(m3,axis=None)\n",
    "m3_new.reshape(2,5)"
   ]
  },
  {
   "cell_type": "markdown",
   "metadata": {},
   "source": [
    "## NumPy and Masks\n",
    "__2a) create an array called 'f' where the values are cosine(x) for x from 0 to pi with 50 equally spaced values in f__\n",
    "* print f\n",
    "* use a 'mask' and print an array that is True when f >= 1/2 and False when f < 1/2\n",
    "* create and print an array sequence that has only those values where f>= 1/2\n",
    "\n"
   ]
  },
  {
   "cell_type": "code",
   "execution_count": 21,
   "metadata": {},
   "outputs": [
    {
     "name": "stdout",
     "output_type": "stream",
     "text": [
      "[ 1.          0.99794539  0.99179001  0.98155916  0.96729486  0.94905575\n",
      "  0.92691676  0.90096887  0.8713187   0.8380881   0.80141362  0.76144596\n",
      "  0.71834935  0.67230089  0.6234898   0.57211666  0.51839257  0.46253829\n",
      "  0.40478334  0.34536505  0.28452759  0.22252093  0.1595999   0.09602303\n",
      "  0.03205158 -0.03205158 -0.09602303 -0.1595999  -0.22252093 -0.28452759\n",
      " -0.34536505 -0.40478334 -0.46253829 -0.51839257 -0.57211666 -0.6234898\n",
      " -0.67230089 -0.71834935 -0.76144596 -0.80141362 -0.8380881  -0.8713187\n",
      " -0.90096887 -0.92691676 -0.94905575 -0.96729486 -0.98155916 -0.99179001\n",
      " -0.99794539 -1.        ]\n",
      "[1.         0.99794539 0.99179001 0.98155916 0.96729486 0.94905575\n",
      " 0.92691676 0.90096887 0.8713187  0.8380881  0.80141362 0.76144596\n",
      " 0.71834935 0.67230089 0.6234898  0.57211666 0.51839257]\n"
     ]
    }
   ],
   "source": [
    "f=np.cos(np.linspace(0,np.pi,50))\n",
    "print(f)\n",
    "mark=f>=1/2\n",
    "print(f[mark])"
   ]
  },
  {
   "cell_type": "markdown",
   "metadata": {
    "collapsed": true
   },
   "source": [
    "## NumPy and 2 Variable Prediction"
   ]
  },
  {
   "cell_type": "markdown",
   "metadata": {},
   "source": [
    "__ Let 'x' be the number of miles a person drives per day and 'y' be the dollars spent on buying car fuel (per day).__\n",
    "  \n",
    "__We have created 2 numpy arrays each of size 100 that represent x and y.  \n",
    "x ( number of miles) ranges from 1 to 10 with a uniform noise of (0,1/2)  \n",
    "y (money spent in dollars) will be from 1 to 20 with a uniform noise (0,1)__ \n"
   ]
  },
  {
   "cell_type": "code",
   "execution_count": 18,
   "metadata": {},
   "outputs": [
    {
     "name": "stdout",
     "output_type": "stream",
     "text": [
      "x =  [ 1.34683976  1.12176759  1.51512398  1.55233174  1.40619168  1.65075498\n",
      "  1.79399331  1.80243817  1.89844195  2.00100023  2.3344038   2.22424872\n",
      "  2.24914511  2.36268477  2.49808849  2.8212704   2.68452475  2.68229427\n",
      "  3.09511169  2.95703884  3.09047742  3.2544361   3.41541904  3.40886375\n",
      "  3.50672677  3.74960644  3.64861355  3.7721462   3.56368566  4.01092701\n",
      "  4.15630694  4.06088549  4.02517179  4.25169402  4.15897504  4.26835333\n",
      "  4.32520644  4.48563164  4.78490721  4.84614839  4.96698768  5.18754259\n",
      "  5.29582013  5.32097781  5.0674106   5.47601124  5.46852704  5.64537452\n",
      "  5.49642807  5.89755027  5.68548923  5.76276141  5.94613234  6.18135713\n",
      "  5.96522091  6.0275473   6.54290191  6.4991329   6.74003765  6.81809807\n",
      "  6.50611821  6.91538752  7.01250925  6.89905417  7.31314433  7.20472297\n",
      "  7.1043621   7.48199528  7.58957227  7.61744354  7.6991707   7.85436822\n",
      "  8.03510784  7.80787781  8.22410224  7.99366248  8.40581097  8.28913792\n",
      "  8.45971515  8.54227144  8.6906456   8.61856507  8.83489887  8.66309658\n",
      "  8.94837987  9.20890222  8.9614749   8.92608294  9.13231416  9.55889896\n",
      "  9.61488451  9.54252979  9.42015491  9.90952569 10.00659591 10.02504265\n",
      " 10.07330937  9.93489915 10.0892334  10.36509991]\n",
      "y=  [ 1.6635012   2.0214592   2.10816052  2.26016496  1.96287558  2.9554635\n",
      "  3.02881887  3.33565296  2.75465779  3.4250107   3.39670148  3.39377767\n",
      "  3.78503343  4.38293049  4.32963586  4.03925039  4.73691868  4.30098399\n",
      "  4.8416329   4.78175957  4.99765787  5.31746817  5.76844671  5.93723749\n",
      "  5.72811642  6.70973615  6.68143367  6.57482731  7.17737603  7.54863252\n",
      "  7.30221419  7.3202573   7.78023884  7.91133365  8.2765417   8.69203281\n",
      "  8.78219865  8.45897546  8.89094715  8.81719921  8.87106971  9.66192562\n",
      "  9.4020625   9.85990783  9.60359778 10.07386266 10.6957995  10.66721916\n",
      " 11.18256285 10.57431836 11.46744716 10.94398916 11.26445259 12.09754828\n",
      " 12.11988037 12.121557   12.17613693 12.43750193 13.00912372 12.86407194\n",
      " 13.24640866 12.76120085 13.11723062 14.07841099 14.19821707 14.27289001\n",
      " 14.30624942 14.63060835 14.2770918  15.0744923  14.45261619 15.11897313\n",
      " 15.2378667  15.27203124 15.32491892 16.01095271 15.71250558 16.29488506\n",
      " 16.70618934 16.56555394 16.42379457 17.18144744 17.13813976 17.69613625\n",
      " 17.37763019 17.90942839 17.90343733 18.01951169 18.35727914 18.16841269\n",
      " 18.61813748 18.66062754 18.81217983 19.44995194 19.7213867  19.71966726\n",
      " 19.78961904 19.64385088 20.69719809 20.07974319]\n"
     ]
    }
   ],
   "source": [
    "# seed the random number generator with a fixed value\n",
    "import numpy as np\n",
    "np.random.seed(500)\n",
    "\n",
    "x=np.linspace(1,10,100)+ np.random.uniform(low=0,high=.5,size=100) \n",
    "y=np.linspace(1,20,100)+ np.random.uniform(low=0,high=1,size=100)\n",
    "print ('x = ',x)\n",
    "print ('y= ',y)"
   ]
  },
  {
   "cell_type": "markdown",
   "metadata": {},
   "source": [
    "__3a) Find Expected value of x and the expected value of y__"
   ]
  },
  {
   "cell_type": "code",
   "execution_count": 32,
   "metadata": {},
   "outputs": [
    {
     "name": "stdout",
     "output_type": "stream",
     "text": [
      "5.782532541587923 11.012981683344968\n"
     ]
    }
   ],
   "source": [
    "exp_x=np.mean(x)\n",
    "exp_y=np.mean(y)\n",
    "print(exp_x,exp_y)"
   ]
  },
  {
   "cell_type": "markdown",
   "metadata": {},
   "source": [
    "__3b) Find variance of distributions of  x and  y__"
   ]
  },
  {
   "cell_type": "code",
   "execution_count": 28,
   "metadata": {},
   "outputs": [
    {
     "name": "stdout",
     "output_type": "stream",
     "text": [
      "7.03332752947585 30.113903575509635\n"
     ]
    }
   ],
   "source": [
    "var_x=np.var(x)\n",
    "var_y=np.var(y)\n",
    "print(var_x,var_y)"
   ]
  },
  {
   "cell_type": "markdown",
   "metadata": {},
   "source": [
    "__3c) Find co-variance of x and y.__"
   ]
  },
  {
   "cell_type": "code",
   "execution_count": 30,
   "metadata": {},
   "outputs": [
    {
     "name": "stdout",
     "output_type": "stream",
     "text": [
      "14.657743832803437\n"
     ]
    }
   ],
   "source": [
    "co=np.cov(x,y)[0][1]\n",
    "print(co)"
   ]
  },
  {
   "cell_type": "markdown",
   "metadata": {},
   "source": [
    "__3d) Assuming that number of dollars spent in car fuel is only dependant on the miles driven, by  a linear relationship.  \n",
    "Write code that uses a linear predictor to calculate a predicted value of y for each x\n",
    "ie y_predicted = f(x) = y0+mx.__  "
   ]
  },
  {
   "cell_type": "code",
   "execution_count": 35,
   "metadata": {},
   "outputs": [
    {
     "name": "stdout",
     "output_type": "stream",
     "text": [
      "[ 1.76881551  1.29975583  2.11952674  2.19706924  1.89250733  2.40218732\n",
      "  2.70070189  2.71830133  2.91837716  3.13211283  3.82693958  3.59737186\n",
      "  3.64925696  3.88587827  4.16806519  4.84158958  4.55660602  4.55195763\n",
      "  5.41228611  5.1245366   5.4026281   5.74432472  6.07981979  6.06615829\n",
      "  6.27010885  6.77628008  6.56580674  6.82325387  6.38881354  7.3208829\n",
      "  7.62386066  7.42499842  7.35056961  7.82265125  7.62942107  7.85736994\n",
      "  7.97585416  8.31018686  8.93388945  9.0615186   9.31335266  9.77299816\n",
      "  9.998653   10.05108265  9.52263814 10.37417868 10.3585813  10.72713873\n",
      " 10.41672819 11.25268336 10.81073943 10.97177784 11.35393039 11.84414852\n",
      " 11.39371175 11.52360252 12.59762273 12.50640631 13.00846171 13.17114283\n",
      " 12.52096398 13.37389806 13.57630372 13.33985868 14.2028396  13.97688504\n",
      " 13.76772884 14.55473193 14.7789268  14.83701167 15.00733442 15.33077245\n",
      " 15.70744125 15.23388452 16.10131336 15.6210674  16.48000181 16.23685037\n",
      " 16.59234034 16.76439104 17.07360891 16.92339011 17.37423864 17.01619561\n",
      " 17.61073773 18.15367702 17.63802831 17.56427    17.99406434 18.88308462\n",
      " 18.9997608  18.84897058 18.59393631 19.61380514 19.81610346 19.85454723\n",
      " 19.95513706 19.66668447 19.98832339 20.56324056]\n"
     ]
    }
   ],
   "source": [
    "m=co/var_x\n",
    "y0=exp_y-m*exp_x\n",
    "y_predicted=m*x+y0\n",
    "print(y_predicted)"
   ]
  },
  {
   "cell_type": "markdown",
   "metadata": {},
   "source": [
    "__3e) Predict y for each value in x, pur the error into an array called y_error__"
   ]
  },
  {
   "cell_type": "code",
   "execution_count": 37,
   "metadata": {},
   "outputs": [
    {
     "name": "stdout",
     "output_type": "stream",
     "text": [
      "[-1.05314309e-01  7.21703366e-01 -1.13662110e-02  6.30957167e-02\n",
      "  7.03682516e-02  5.53276173e-01  3.28116980e-01  6.17351628e-01\n",
      " -1.63719369e-01  2.92897867e-01 -4.30238098e-01 -2.03594191e-01\n",
      "  1.35776473e-01  4.97052216e-01  1.61570667e-01 -8.02339188e-01\n",
      "  1.80312658e-01 -2.50973643e-01 -5.70653214e-01 -3.42777034e-01\n",
      " -4.04970232e-01 -4.26856544e-01 -3.11373081e-01 -1.28920801e-01\n",
      " -5.41992427e-01 -6.65439261e-02  1.15626927e-01 -2.48426563e-01\n",
      "  7.88562495e-01  2.27749619e-01 -3.21646464e-01 -1.04741121e-01\n",
      "  4.29669229e-01  8.86824064e-02  6.47120628e-01  8.34662873e-01\n",
      "  8.06344483e-01  1.48788597e-01 -4.29423037e-02 -2.44319388e-01\n",
      " -4.42282956e-01 -1.11072540e-01 -5.96590507e-01 -1.91174825e-01\n",
      "  8.09596391e-02 -3.00316025e-01  3.37218195e-01 -5.99195710e-02\n",
      "  7.65834652e-01 -6.78364995e-01  6.56707732e-01 -2.77886742e-02\n",
      " -8.94778085e-02  2.53399759e-01  7.26168620e-01  5.97954474e-01\n",
      " -4.21485798e-01 -6.89043727e-02  6.62014456e-04 -3.07070891e-01\n",
      "  7.25444679e-01 -6.12697206e-01 -4.59073099e-01  7.38552302e-01\n",
      " -4.62253673e-03  2.96004972e-01  5.38520575e-01  7.58764193e-02\n",
      " -5.01835004e-01  2.37480633e-01 -5.54718230e-01 -2.11799323e-01\n",
      " -4.69574546e-01  3.81467141e-02 -7.76394438e-01  3.89885301e-01\n",
      " -7.67496225e-01  5.80346879e-02  1.13849001e-01 -1.98837099e-01\n",
      " -6.49814339e-01  2.58057329e-01 -2.36098875e-01  6.79940645e-01\n",
      " -2.33107534e-01 -2.44248626e-01  2.65409018e-01  4.55241691e-01\n",
      "  3.63214807e-01 -7.14671927e-01 -3.81623320e-01 -1.88343033e-01\n",
      "  2.18243517e-01 -1.63853198e-01 -9.47167582e-02 -1.34879969e-01\n",
      " -1.65518016e-01 -2.28335961e-02  7.08874698e-01 -4.83497362e-01]\n"
     ]
    }
   ],
   "source": [
    "y_error=y-y_predicted\n",
    "print(y_error)"
   ]
  },
  {
   "cell_type": "markdown",
   "metadata": {},
   "source": [
    "__3f) Write code that calculates the root mean square error(RMSE), that is root of average of y-error squared__"
   ]
  },
  {
   "cell_type": "code",
   "execution_count": 45,
   "metadata": {},
   "outputs": [],
   "source": [
    "from sklearn.metrics import mean_squared_error\n",
    "from math import sqrt"
   ]
  },
  {
   "cell_type": "code",
   "execution_count": 48,
   "metadata": {},
   "outputs": [
    {
     "name": "stdout",
     "output_type": "stream",
     "text": [
      "0.4213186619970297\n"
     ]
    }
   ],
   "source": [
    "rmse_y=sqrt(mean_squared_error(y,y_predicted))\n",
    "print(rmse_y)"
   ]
  }
 ],
 "metadata": {
  "anaconda-cloud": {},
  "kernelspec": {
   "display_name": "Python 3",
   "language": "python",
   "name": "python3"
  },
  "language_info": {
   "codemirror_mode": {
    "name": "ipython",
    "version": 3
   },
   "file_extension": ".py",
   "mimetype": "text/x-python",
   "name": "python",
   "nbconvert_exporter": "python",
   "pygments_lexer": "ipython3",
   "version": "3.6.5"
  }
 },
 "nbformat": 4,
 "nbformat_minor": 1
}
